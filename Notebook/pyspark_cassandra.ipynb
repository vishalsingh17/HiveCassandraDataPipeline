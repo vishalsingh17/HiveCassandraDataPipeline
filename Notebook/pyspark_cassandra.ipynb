{
 "cells": [
  {
   "cell_type": "code",
   "execution_count": null,
   "id": "44794694",
   "metadata": {},
   "outputs": [],
   "source": [
    "# Configurating related to Cassandra connector & Cluster\n",
    "import os\n",
    "os.environ['PYSPARK_SUBMIT_ARGS'] = '--packages com.datastax.spark:spark-cassandra-connector_2.12:3.1.0 --conf spark.cassandra.connection.host=127.0.0.1 pyspark-shell'"
   ]
  },
  {
   "cell_type": "code",
   "execution_count": null,
   "id": "609f8f0e",
   "metadata": {},
   "outputs": [],
   "source": [
    "# Creating PySpark Context\n",
    "from pyspark import SparkContext\n",
    "sc = SparkContext(\"local\", \"integration\")"
   ]
  },
  {
   "cell_type": "code",
   "execution_count": null,
   "id": "da54e6c0",
   "metadata": {},
   "outputs": [],
   "source": [
    "# Creating PySpark SQL Context\n",
    "from pyspark.sql import SQLContext\n",
    "sqlContext = SQLContext(sc)"
   ]
  },
  {
   "cell_type": "markdown",
   "id": "87bfbc01",
   "metadata": {},
   "source": [
    "# read data from cassandra"
   ]
  },
  {
   "cell_type": "code",
   "execution_count": null,
   "id": "d553ffe4",
   "metadata": {},
   "outputs": [],
   "source": [
    "# Loads and returns data frame for a table including key space given\n",
    "\n",
    "empDf = sqlContext.read.format(\"org.apache.spark.sql.cassandra\").options(table=\"emp\", keyspace=\"empinfo\").load()"
   ]
  },
  {
   "cell_type": "code",
   "execution_count": null,
   "id": "a7c65197",
   "metadata": {},
   "outputs": [],
   "source": [
    "empDf.show()"
   ]
  },
  {
   "cell_type": "code",
   "execution_count": null,
   "id": "4593a1b8",
   "metadata": {},
   "outputs": [],
   "source": [
    "#apply filter function on dataframe\n",
    "empDf1 = empDf.select(\"emp_id\",\"emp_city\",\"emp_name\",\"emp_phone\",\"emp_sal\").filter(\"emp_sal > 20000\")"
   ]
  },
  {
   "cell_type": "code",
   "execution_count": null,
   "id": "c556253e",
   "metadata": {},
   "outputs": [],
   "source": [
    "empDf1.show()"
   ]
  },
  {
   "cell_type": "code",
   "execution_count": null,
   "id": "5ba1ef23",
   "metadata": {},
   "outputs": [],
   "source": [
    "#create spark session object\n",
    "from pyspark.sql import SparkSession\n",
    "spark = SparkSession.builder \\\n",
    "    .master(\"local\").appName(\"PySpark_cassandra\").getOrCreate()"
   ]
  },
  {
   "cell_type": "markdown",
   "id": "33f48e0a",
   "metadata": {},
   "source": [
    "# write dataframe into cassandra\n",
    "\n",
    "# Note before writing data into cassandra create table in cassandra where we write data"
   ]
  },
  {
   "cell_type": "code",
   "execution_count": null,
   "id": "ed70a91c",
   "metadata": {},
   "outputs": [],
   "source": [
    "empDf1.write.format(\"org.apache.spark.sql.cassandra\").options(table=\"emp1\", keyspace=\"empinfo\").mode(\"append\").save()"
   ]
  },
  {
   "cell_type": "code",
   "execution_count": null,
   "id": "5307bea1",
   "metadata": {},
   "outputs": [],
   "source": [
    "#creating a sparksession object and providing appName \n",
    "from pyspark.sql import SparkSession\n",
    "spark=SparkSession.builder.appName(\"cassandra\").getOrCreate()"
   ]
  },
  {
   "cell_type": "code",
   "execution_count": null,
   "id": "3b29fbc5",
   "metadata": {},
   "outputs": [],
   "source": [
    "empDf2 = spark.read.format(\"org.apache.spark.sql.cassandra\").options(table=\"emp1\", keyspace=\"empinfo\").load()"
   ]
  },
  {
   "cell_type": "code",
   "execution_count": null,
   "id": "5d1eec2e",
   "metadata": {},
   "outputs": [],
   "source": [
    "empDf2.show()"
   ]
  }
 ],
 "metadata": {
  "kernelspec": {
   "display_name": "Python 3 (ipykernel)",
   "language": "python",
   "name": "python3"
  },
  "language_info": {
   "codemirror_mode": {
    "name": "ipython",
    "version": 3
   },
   "file_extension": ".py",
   "mimetype": "text/x-python",
   "name": "python",
   "nbconvert_exporter": "python",
   "pygments_lexer": "ipython3",
   "version": "3.9.7"
  }
 },
 "nbformat": 4,
 "nbformat_minor": 5
}
